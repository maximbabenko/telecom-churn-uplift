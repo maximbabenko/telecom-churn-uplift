{
 "cells": [
  {
   "cell_type": "markdown",
   "id": "cb45b910",
   "metadata": {},
   "source": [
    "# Препроцессор для данных"
   ]
  },
  {
   "cell_type": "code",
   "execution_count": 1,
   "id": "687c63f4",
   "metadata": {},
   "outputs": [],
   "source": [
    "import pandas as pd\n",
    "import numpy as np\n",
    "\n",
    "from pathlib import Path\n",
    "import joblib\n",
    "\n",
    "from sklearn.model_selection import train_test_split\n",
    "from sklearn.pipeline import Pipeline\n",
    "from sklearn.compose import ColumnTransformer\n",
    "from sklearn.preprocessing import OneHotEncoder, StandardScaler\n",
    "from sklearn.impute import SimpleImputer"
   ]
  },
  {
   "cell_type": "code",
   "execution_count": 2,
   "id": "dc460623",
   "metadata": {},
   "outputs": [
    {
     "name": "stdout",
     "output_type": "stream",
     "text": [
      "| shape: (11896, 180)\n"
     ]
    },
    {
     "data": {
      "text/html": [
       "<div>\n",
       "<style scoped>\n",
       "    .dataframe tbody tr th:only-of-type {\n",
       "        vertical-align: middle;\n",
       "    }\n",
       "\n",
       "    .dataframe tbody tr th {\n",
       "        vertical-align: top;\n",
       "    }\n",
       "\n",
       "    .dataframe thead th {\n",
       "        text-align: right;\n",
       "    }\n",
       "</style>\n",
       "<table border=\"1\" class=\"dataframe\">\n",
       "  <thead>\n",
       "    <tr style=\"text-align: right;\">\n",
       "      <th></th>\n",
       "      <th>PC1</th>\n",
       "      <th>PC2</th>\n",
       "      <th>PC3</th>\n",
       "      <th>PC4</th>\n",
       "      <th>PC5</th>\n",
       "      <th>PC6</th>\n",
       "      <th>PC7</th>\n",
       "      <th>PC8</th>\n",
       "      <th>PC9</th>\n",
       "      <th>PC10</th>\n",
       "      <th>...</th>\n",
       "      <th>FACTOR11</th>\n",
       "      <th>FACTOR12</th>\n",
       "      <th>FACTOR13</th>\n",
       "      <th>FACTOR14</th>\n",
       "      <th>FACTOR15</th>\n",
       "      <th>FACTOR16</th>\n",
       "      <th>FACTOR17</th>\n",
       "      <th>FACTOR18</th>\n",
       "      <th>treatment</th>\n",
       "      <th>churn</th>\n",
       "    </tr>\n",
       "  </thead>\n",
       "  <tbody>\n",
       "    <tr>\n",
       "      <th>0</th>\n",
       "      <td>-3.064007</td>\n",
       "      <td>-1.272259</td>\n",
       "      <td>-4.075844</td>\n",
       "      <td>1.492514</td>\n",
       "      <td>2.328039</td>\n",
       "      <td>-0.330240</td>\n",
       "      <td>-0.770389</td>\n",
       "      <td>0.035541</td>\n",
       "      <td>2.439325</td>\n",
       "      <td>-0.847266</td>\n",
       "      <td>...</td>\n",
       "      <td>V2</td>\n",
       "      <td>V2</td>\n",
       "      <td>V5</td>\n",
       "      <td>V20</td>\n",
       "      <td>V9</td>\n",
       "      <td>V11</td>\n",
       "      <td>V1</td>\n",
       "      <td>V4</td>\n",
       "      <td>0</td>\n",
       "      <td>0</td>\n",
       "    </tr>\n",
       "    <tr>\n",
       "      <th>1</th>\n",
       "      <td>-4.574066</td>\n",
       "      <td>-3.541815</td>\n",
       "      <td>1.107371</td>\n",
       "      <td>0.447314</td>\n",
       "      <td>-0.471140</td>\n",
       "      <td>-0.567309</td>\n",
       "      <td>0.195963</td>\n",
       "      <td>0.383654</td>\n",
       "      <td>1.523472</td>\n",
       "      <td>-0.184596</td>\n",
       "      <td>...</td>\n",
       "      <td>V2</td>\n",
       "      <td>V3</td>\n",
       "      <td>V6</td>\n",
       "      <td>V20</td>\n",
       "      <td>V9</td>\n",
       "      <td>V15</td>\n",
       "      <td>V4</td>\n",
       "      <td>V4</td>\n",
       "      <td>0</td>\n",
       "      <td>0</td>\n",
       "    </tr>\n",
       "    <tr>\n",
       "      <th>2</th>\n",
       "      <td>-1.751471</td>\n",
       "      <td>-2.039692</td>\n",
       "      <td>-3.788823</td>\n",
       "      <td>0.624226</td>\n",
       "      <td>0.564614</td>\n",
       "      <td>-0.713385</td>\n",
       "      <td>1.003502</td>\n",
       "      <td>1.582819</td>\n",
       "      <td>-1.461687</td>\n",
       "      <td>0.844975</td>\n",
       "      <td>...</td>\n",
       "      <td>V5</td>\n",
       "      <td>V2</td>\n",
       "      <td>V11</td>\n",
       "      <td>V20</td>\n",
       "      <td>V9</td>\n",
       "      <td>V1</td>\n",
       "      <td>V4</td>\n",
       "      <td>V4</td>\n",
       "      <td>1</td>\n",
       "      <td>0</td>\n",
       "    </tr>\n",
       "  </tbody>\n",
       "</table>\n",
       "<p>3 rows × 180 columns</p>\n",
       "</div>"
      ],
      "text/plain": [
       "        PC1       PC2       PC3       PC4       PC5       PC6       PC7  \\\n",
       "0 -3.064007 -1.272259 -4.075844  1.492514  2.328039 -0.330240 -0.770389   \n",
       "1 -4.574066 -3.541815  1.107371  0.447314 -0.471140 -0.567309  0.195963   \n",
       "2 -1.751471 -2.039692 -3.788823  0.624226  0.564614 -0.713385  1.003502   \n",
       "\n",
       "        PC8       PC9      PC10  ...  FACTOR11  FACTOR12  FACTOR13  FACTOR14  \\\n",
       "0  0.035541  2.439325 -0.847266  ...        V2        V2        V5       V20   \n",
       "1  0.383654  1.523472 -0.184596  ...        V2        V3        V6       V20   \n",
       "2  1.582819 -1.461687  0.844975  ...        V5        V2       V11       V20   \n",
       "\n",
       "   FACTOR15  FACTOR16  FACTOR17  FACTOR18  treatment  churn  \n",
       "0        V9       V11        V1        V4          0      0  \n",
       "1        V9       V15        V4        V4          0      0  \n",
       "2        V9        V1        V4        V4          1      0  \n",
       "\n",
       "[3 rows x 180 columns]"
      ]
     },
     "execution_count": 2,
     "metadata": {},
     "output_type": "execute_result"
    }
   ],
   "source": [
    "RAW_DIR = Path(\"../data/raw\")\n",
    "\n",
    "pq_path  = RAW_DIR / \"orange_belgium_std.parquet\"\n",
    "\n",
    "df = pd.read_parquet(pq_path)  \n",
    "\n",
    "print(\"| shape:\", df.shape) \n",
    "df.head(3)                                   "
   ]
  },
  {
   "cell_type": "code",
   "execution_count": 3,
   "id": "4044a953",
   "metadata": {},
   "outputs": [],
   "source": [
    "y = df[\"churn\"].astype(int)\n",
    "\n",
    "X = df.drop(columns=[\"churn\", \"treatment\"])"
   ]
  },
  {
   "cell_type": "code",
   "execution_count": 4,
   "id": "d4f5de0a",
   "metadata": {},
   "outputs": [
    {
     "name": "stdout",
     "output_type": "stream",
     "text": [
      "удалено констант: 1\n"
     ]
    }
   ],
   "source": [
    "# Константы: если у признака <2 уникальных значений (все одинаковые/почти одинаковые) — выкидываем\n",
    "const_cols = [c for c in X.columns if X[c].nunique(dropna=False) < 2]\n",
    "X = X.drop(columns=const_cols)\n",
    "\n",
    "print(f\"удалено констант: {len(const_cols)}\")"
   ]
  },
  {
   "cell_type": "code",
   "execution_count": 5,
   "id": "19e383ee",
   "metadata": {},
   "outputs": [
    {
     "data": {
      "text/plain": [
       "((8326, 177), (1785, 177), (1785, 177))"
      ]
     },
     "execution_count": 5,
     "metadata": {},
     "output_type": "execute_result"
    }
   ],
   "source": [
    "# Сначала отделим test 15% от ВСЕХ данных\n",
    "X_tmp, X_test, y_tmp, y_test = train_test_split(\n",
    "    X, y,\n",
    "    test_size=0.15,          # 15% пойдут в финальный тест\n",
    "    stratify=y,              # стратификация по y — сохраняем долю класса 1 (важно при 3.4% churn)\n",
    "    random_state=42\n",
    ")\n",
    "\n",
    "# Потом отделим валидацию от оставшегося \n",
    "valid_rel = 0.15 / 0.85      # чтобы в сумме val ≈ 15% исходных\n",
    "X_train, X_valid, y_train, y_valid = train_test_split(\n",
    "    X_tmp, y_tmp,\n",
    "    test_size=valid_rel,     \n",
    "    stratify=y_tmp,          \n",
    "    random_state=42\n",
    ")\n",
    "\n",
    "X_train.shape, X_valid.shape, X_test.shape"
   ]
  },
  {
   "cell_type": "code",
   "execution_count": 6,
   "id": "ed9217cb",
   "metadata": {},
   "outputs": [
    {
     "name": "stdout",
     "output_type": "stream",
     "text": [
      "numeric: 160, categorical: 17\n"
     ]
    }
   ],
   "source": [
    "num_cols = X_train.select_dtypes(include=\"number\").columns.tolist()\n",
    "\n",
    "cat_cols = [c for c in X_train.columns if c not in num_cols]\n",
    "\n",
    "print(f\"numeric: {len(num_cols)}, categorical: {len(cat_cols)}\")"
   ]
  },
  {
   "cell_type": "code",
   "execution_count": 7,
   "id": "34ed0f97",
   "metadata": {},
   "outputs": [],
   "source": [
    "# Для числовых: скейлим до \"среднее=0, std=1\"\n",
    "num_pipe = Pipeline(steps=[\n",
    "    (\"scaler\",  StandardScaler())                   # чтобы модели не страдали от разных шкал\n",
    "])\n",
    "\n",
    "# Для категориальных: кодируем в OHE\n",
    "cat_pipe = Pipeline(steps=[\n",
    "    (\"ohe\",     OneHotEncoder(handle_unknown=\"ignore\"))       # игнорим новые уровни на вал/тесте\n",
    "])\n",
    "\n",
    "# Склеиваем обе ветки: к числовым применится num_pipe, к категориальным — cat_pipe\n",
    "preprocessor = ColumnTransformer(transformers=[\n",
    "    (\"num\", num_pipe, num_cols),\n",
    "    (\"cat\", cat_pipe, cat_cols)\n",
    "])"
   ]
  },
  {
   "cell_type": "code",
   "execution_count": 8,
   "id": "caf20ead",
   "metadata": {},
   "outputs": [
    {
     "data": {
      "text/plain": [
       "((8326, 335), (1785, 335), (1785, 335))"
      ]
     },
     "execution_count": 8,
     "metadata": {},
     "output_type": "execute_result"
    }
   ],
   "source": [
    "# fit_transform на train — \"учим\"\n",
    "X_train_proc = preprocessor.fit_transform(X_train)\n",
    "\n",
    "# transform на valid/test — применяем уже \"выученное\" к новым данным (без переобучения)\n",
    "X_valid_proc = preprocessor.transform(X_valid)\n",
    "X_test_proc  = preprocessor.transform(X_test)\n",
    "\n",
    "# Проверяем размеры матриц. После OHE колонок станет больше.\n",
    "X_train_proc.shape, X_valid_proc.shape, X_test_proc.shape\n"
   ]
  },
  {
   "cell_type": "code",
   "execution_count": 9,
   "id": "611d2337",
   "metadata": {},
   "outputs": [],
   "source": [
    "PROC_DIR = Path(\"../data/processed\")\n",
    "PROC_DIR.mkdir(parents=True, exist_ok=True)\n",
    "\n",
    "# Сохраняем препроцессор\n",
    "joblib.dump(preprocessor, PROC_DIR / \"preprocessor.pkl\")\n",
    "\n",
    "# Целевые вектора пригодятся для обучения/оценки\n",
    "np.save(PROC_DIR / \"y_train.npy\", y_train.to_numpy())\n",
    "np.save(PROC_DIR / \"y_valid.npy\", y_valid.to_numpy())\n",
    "np.save(PROC_DIR / \"y_test.npy\",  y_test.to_numpy())\n"
   ]
  }
 ],
 "metadata": {
  "kernelspec": {
   "display_name": ".venv",
   "language": "python",
   "name": "python3"
  },
  "language_info": {
   "codemirror_mode": {
    "name": "ipython",
    "version": 3
   },
   "file_extension": ".py",
   "mimetype": "text/x-python",
   "name": "python",
   "nbconvert_exporter": "python",
   "pygments_lexer": "ipython3",
   "version": "3.13.5"
  }
 },
 "nbformat": 4,
 "nbformat_minor": 5
}
